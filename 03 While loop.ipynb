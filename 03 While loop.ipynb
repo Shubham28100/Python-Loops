{
 "cells": [
  {
   "cell_type": "markdown",
   "id": "01442796-e572-4c53-a65e-b03ac67bc038",
   "metadata": {},
   "source": [
    "# While loop"
   ]
  },
  {
   "cell_type": "raw",
   "id": "410d8211-ab93-4fa2-9a3f-ad9d688e1d51",
   "metadata": {},
   "source": [
    "Snytax:\n",
    " while conditin:\n",
    "     code statement"
   ]
  },
  {
   "cell_type": "code",
   "execution_count": 1,
   "id": "eb9bb91b-7e5b-4ddc-adb0-6d75705e9ed2",
   "metadata": {},
   "outputs": [
    {
     "name": "stdout",
     "output_type": "stream",
     "text": [
      "x is currently: 0\n",
      "x is still less than 10, adding 1 \n",
      "x is currently: 1\n",
      "x is still less than 10, adding 1 \n",
      "x is currently: 2\n",
      "x is still less than 10, adding 1 \n",
      "x is currently: 3\n",
      "x is still less than 10, adding 1 \n",
      "x is currently: 4\n",
      "x is still less than 10, adding 1 \n",
      "x is currently: 5\n",
      "x is still less than 10, adding 1 \n",
      "x is currently: 6\n",
      "x is still less than 10, adding 1 \n",
      "x is currently: 7\n",
      "x is still less than 10, adding 1 \n",
      "x is currently: 8\n",
      "x is still less than 10, adding 1 \n",
      "x is currently: 9\n",
      "x is still less than 10, adding 1 \n"
     ]
    }
   ],
   "source": [
    "x = 0\n",
    "while x < 10:\n",
    "    print('x is currently:',x)\n",
    "    print('x is still less than 10, adding 1 ')\n",
    "    x+=1"
   ]
  },
  {
   "cell_type": "markdown",
   "id": "a58b5cd8-360f-423a-9df0-c7ce148428ba",
   "metadata": {},
   "source": [
    "### Break, continue, pass"
   ]
  },
  {
   "cell_type": "raw",
   "id": "f3d05fae-d5fb-4850-a7a0-92ab34f8392b",
   "metadata": {},
   "source": [
    "Snytax:\n",
    " while conditin:\n",
    "     statement\n",
    "     if condition:\n",
    "         break\n",
    "     if condition:\n",
    "         continue\n",
    "else:\n",
    "    condition"
   ]
  },
  {
   "cell_type": "code",
   "execution_count": 7,
   "id": "6098244d-c38f-4632-a539-401a8a36dfd1",
   "metadata": {},
   "outputs": [
    {
     "name": "stdout",
     "output_type": "stream",
     "text": [
      "x is currently: 0\n",
      "x is still less than 5, adding 1 to x\n",
      "continuing...\n",
      "x is currently: 1\n",
      "x is still less than 5, adding 1 to x\n",
      "continuing...\n",
      "x is currently: 2\n",
      "x is still less than 5, adding 1 to x\n",
      "x==3\n"
     ]
    }
   ],
   "source": [
    "x = 0\n",
    "while x < 5:\n",
    "    print('x is currently:',x)\n",
    "    print('x is still less than 5, adding 1 to x')\n",
    "    x+=1\n",
    "    if x==3:\n",
    "        print('x==3')\n",
    "        break\n",
    "    else:\n",
    "        print('continuing...')\n",
    "        continue"
   ]
  },
  {
   "cell_type": "code",
   "execution_count": 18,
   "id": "0560ca1c-a5fd-4152-a26f-e86946a52aa2",
   "metadata": {},
   "outputs": [
    {
     "name": "stdout",
     "output_type": "stream",
     "text": [
      "1\n",
      "2\n",
      "Loop Ended\n"
     ]
    }
   ],
   "source": [
    "x = 0\n",
    "while x<5:\n",
    "    x+=1\n",
    "    if x==3:\n",
    "        break\n",
    "    print(x)\n",
    "print('Loop Ended')    "
   ]
  },
  {
   "cell_type": "code",
   "execution_count": 15,
   "id": "9107e91e-dc97-496a-9b75-bf9ecf56a1c0",
   "metadata": {},
   "outputs": [
    {
     "name": "stdin",
     "output_type": "stream",
     "text": [
      "Enter any number...to exit the loop enter -ve number 1\n",
      "Enter any number...to exit the loop enter -ve number 2\n",
      "Enter any number...to exit the loop enter -ve number 3\n",
      "Enter any number...to exit the loop enter -ve number 4\n",
      "Enter any number...to exit the loop enter -ve number 5\n",
      "Enter any number...to exit the loop enter -ve number 6\n",
      "Enter any number...to exit the loop enter -ve number 7\n",
      "Enter any number...to exit the loop enter -ve number 8\n",
      "Enter any number...to exit the loop enter -ve number 9\n",
      "Enter any number...to exit the loop enter -ve number 10\n",
      "Enter any number...to exit the loop enter -ve number -11\n"
     ]
    },
    {
     "name": "stdout",
     "output_type": "stream",
     "text": [
      "\n",
      "Number of entries= 10 \n",
      "Average= 5.5\n"
     ]
    }
   ],
   "source": [
    "n = 0\n",
    "c = 0\n",
    "sum = 0\n",
    "while n>=0:\n",
    "    n = float(input(\"Enter any number...to exit the loop enter -ve number\"))\n",
    "    if n>=0:\n",
    "        c = c+1\n",
    "        sum = sum + n\n",
    "avg = sum/c\n",
    "print('\\nNumber of entries=',c ,'\\nAverage=',avg)\n",
    "    "
   ]
  },
  {
   "cell_type": "code",
   "execution_count": 1,
   "id": "9e6f7a02-bf50-4ec8-b072-66042a0e0695",
   "metadata": {},
   "outputs": [
    {
     "name": "stdout",
     "output_type": "stream",
     "text": [
      "1\n",
      "2\n",
      "x is 3\n",
      "3\n",
      "4\n",
      "5\n",
      "Loop Ended\n"
     ]
    }
   ],
   "source": [
    "# 'pass' is just a place holder like the 'none'\n",
    "x = 0\n",
    "while x<5:\n",
    "    x+=1\n",
    "    if x==3:\n",
    "        print(\"x is 3\")\n",
    "        pass\n",
    "    print(x)\n",
    "print('Loop Ended')"
   ]
  },
  {
   "cell_type": "markdown",
   "id": "2ffc60d0-e7cd-4012-b85e-732474069176",
   "metadata": {},
   "source": [
    "#### enumerate"
   ]
  },
  {
   "cell_type": "code",
   "execution_count": 19,
   "id": "eecf6ca3-e6c7-46fd-9d64-f18155b414a8",
   "metadata": {},
   "outputs": [
    {
     "name": "stdout",
     "output_type": "stream",
     "text": [
      "(0, 'a')\n",
      "(1, 'b')\n",
      "(2, 'c')\n",
      "(3, 'd')\n",
      "(4, 'e')\n"
     ]
    }
   ],
   "source": [
    "# enumerate will give the index value for every element\n",
    "for i in enumerate('abcde'):\n",
    "    print(i)"
   ]
  },
  {
   "cell_type": "code",
   "execution_count": 22,
   "id": "71837438-75da-4664-bff9-df2b88b92a19",
   "metadata": {},
   "outputs": [
    {
     "name": "stdout",
     "output_type": "stream",
     "text": [
      "At index 0 the letter is a\n",
      "At index 1 the letter is b\n",
      "At index 2 the letter is c\n",
      "At index 3 the letter is d\n",
      "At index 4 the letter is e\n"
     ]
    }
   ],
   "source": [
    "for i,let in enumerate('abcde'):\n",
    "    print('At index {} the letter is {}'.format(i,let))"
   ]
  },
  {
   "cell_type": "code",
   "execution_count": 23,
   "id": "f22b20d0-87e6-4fac-8212-ba4802c76d9c",
   "metadata": {},
   "outputs": [
    {
     "name": "stdout",
     "output_type": "stream",
     "text": [
      "5 Ash\n",
      "6 nilesh\n",
      "7 girish\n",
      "8 Matt\n"
     ]
    }
   ],
   "source": [
    "# in enumerate we can give a counter for the index start\n",
    "Name = ['Ash','nilesh','girish','Matt']\n",
    "for let,nam in enumerate(Name,5):\n",
    "    print(let,nam)"
   ]
  },
  {
   "cell_type": "markdown",
   "id": "955f4df5-df97-4ba1-a7c3-3a7e3eb094b3",
   "metadata": {},
   "source": [
    "#### Zip"
   ]
  },
  {
   "cell_type": "code",
   "execution_count": 30,
   "id": "9d1c1718-97e5-4658-bb5e-f737071648c5",
   "metadata": {},
   "outputs": [
    {
     "data": {
      "text/plain": [
       "[(1, 'a'), (2, 'b'), (3, 'c'), (4, 'd'), (5, 'e')]"
      ]
     },
     "execution_count": 30,
     "metadata": {},
     "output_type": "execute_result"
    }
   ],
   "source": [
    "List1 = [1,2,3,4,5]\n",
    "list2 = ['a','b','c','d','e']\n",
    "list(zip(List1,list2))"
   ]
  },
  {
   "cell_type": "code",
   "execution_count": 29,
   "id": "046c9609-048e-437b-846b-f8c9e666ff96",
   "metadata": {},
   "outputs": [
    {
     "data": {
      "text/plain": [
       "<zip at 0x1e602b76b00>"
      ]
     },
     "execution_count": 29,
     "metadata": {},
     "output_type": "execute_result"
    }
   ],
   "source": [
    "zip(List1,list2)"
   ]
  },
  {
   "cell_type": "markdown",
   "id": "9f45b85c-f23b-4821-832e-5b11fe593818",
   "metadata": {},
   "source": [
    "#### in/ not in"
   ]
  },
  {
   "cell_type": "code",
   "execution_count": 32,
   "id": "79a80f48-5d0c-442d-a548-02eac896efb4",
   "metadata": {},
   "outputs": [
    {
     "data": {
      "text/plain": [
       "True"
      ]
     },
     "execution_count": 32,
     "metadata": {},
     "output_type": "execute_result"
    }
   ],
   "source": [
    "# in is a operator and not a function\n",
    "'x' in ['x','y','z']"
   ]
  },
  {
   "cell_type": "code",
   "execution_count": 33,
   "id": "918c9ea7-f2db-4264-a262-56d956c5d6e4",
   "metadata": {},
   "outputs": [
    {
     "data": {
      "text/plain": [
       "False"
      ]
     },
     "execution_count": 33,
     "metadata": {},
     "output_type": "execute_result"
    }
   ],
   "source": [
    "'x' not in ['x','y','z']"
   ]
  },
  {
   "cell_type": "markdown",
   "id": "e01e2947-fd02-49b3-a257-080deee7d9f7",
   "metadata": {},
   "source": [
    "#### Min / Max"
   ]
  },
  {
   "cell_type": "code",
   "execution_count": 34,
   "id": "61f4a527-d329-4b23-a264-a48a52e5ee36",
   "metadata": {},
   "outputs": [
    {
     "data": {
      "text/plain": [
       "10"
      ]
     },
     "execution_count": 34,
     "metadata": {},
     "output_type": "execute_result"
    }
   ],
   "source": [
    "# min will give the minimum value of the list\n",
    "lists = [10,20,30,40,70]\n",
    "min(lists)"
   ]
  },
  {
   "cell_type": "code",
   "execution_count": 36,
   "id": "07e0ebe2-b9f1-4221-8cf9-e6e33faa7768",
   "metadata": {},
   "outputs": [
    {
     "data": {
      "text/plain": [
       "70"
      ]
     },
     "execution_count": 36,
     "metadata": {},
     "output_type": "execute_result"
    }
   ],
   "source": [
    "# max will give the maximum value of the list\n",
    "max(lists)"
   ]
  },
  {
   "cell_type": "markdown",
   "id": "bb29eecc-a95b-4719-a22a-3c310069ebcd",
   "metadata": {},
   "source": [
    "#### random"
   ]
  },
  {
   "cell_type": "code",
   "execution_count": 2,
   "id": "ac13b5b2-1a7d-41d3-b594-62c66d6ecaa0",
   "metadata": {},
   "outputs": [],
   "source": [
    "from random import randint"
   ]
  },
  {
   "cell_type": "code",
   "execution_count": 5,
   "id": "69e8bb9d-7d3e-4d47-a52a-cf4a067f75c7",
   "metadata": {},
   "outputs": [
    {
     "data": {
      "text/plain": [
       "14"
      ]
     },
     "execution_count": 5,
     "metadata": {},
     "output_type": "execute_result"
    }
   ],
   "source": [
    "randint(0,100)"
   ]
  },
  {
   "cell_type": "code",
   "execution_count": null,
   "id": "aef644fd-bd01-42aa-9e13-de7d6a4eefdb",
   "metadata": {},
   "outputs": [],
   "source": []
  },
  {
   "cell_type": "code",
   "execution_count": null,
   "id": "00ba0221-c3c4-4015-97ed-9b481ca0da0b",
   "metadata": {},
   "outputs": [],
   "source": []
  }
 ],
 "metadata": {
  "kernelspec": {
   "display_name": "Python 3 (ipykernel)",
   "language": "python",
   "name": "python3"
  },
  "language_info": {
   "codemirror_mode": {
    "name": "ipython",
    "version": 3
   },
   "file_extension": ".py",
   "mimetype": "text/x-python",
   "name": "python",
   "nbconvert_exporter": "python",
   "pygments_lexer": "ipython3",
   "version": "3.9.7"
  }
 },
 "nbformat": 4,
 "nbformat_minor": 5
}
