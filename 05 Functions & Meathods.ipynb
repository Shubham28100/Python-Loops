{
 "cells": [
  {
   "cell_type": "markdown",
   "id": "5e3e4840-946b-4075-bd1b-82df6229d788",
   "metadata": {},
   "source": [
    "# Functions and Methods"
   ]
  },
  {
   "cell_type": "markdown",
   "id": "926c1ffa-6b59-4136-9ffc-6c35a2a3534b",
   "metadata": {},
   "source": [
    "## Function"
   ]
  },
  {
   "cell_type": "code",
   "execution_count": 1,
   "id": "7df4ba4d-bb3d-47e6-89ac-6b8b65b8496a",
   "metadata": {},
   "outputs": [
    {
     "name": "stdout",
     "output_type": "stream",
     "text": [
      "Hello Shubham\n"
     ]
    }
   ],
   "source": [
    "def say_hello(name):\n",
    "    print('Hello',name)\n",
    "say_hello('Shubham')"
   ]
  },
  {
   "cell_type": "markdown",
   "id": "3bdf7bc9-71d6-451d-9e10-b97fa53c10e9",
   "metadata": {},
   "source": [
    "#### Accepting parametre's"
   ]
  },
  {
   "cell_type": "code",
   "execution_count": 2,
   "id": "a41ffea3-af5d-425c-acda-5291faeada77",
   "metadata": {},
   "outputs": [
    {
     "name": "stdout",
     "output_type": "stream",
     "text": [
      "hello Shubham 21\n"
     ]
    }
   ],
   "source": [
    "def greeting(a , b):\n",
    "    print('hello {} {}'.format(a,b))\n",
    "greeting('Shubham',21)    "
   ]
  },
  {
   "cell_type": "code",
   "execution_count": 3,
   "id": "e297e326-eca9-481a-bbb2-56623e007102",
   "metadata": {},
   "outputs": [
    {
     "name": "stdout",
     "output_type": "stream",
     "text": [
      "HelloWorld\n",
      "9\n"
     ]
    }
   ],
   "source": [
    "def add_num(n1 , n2):\n",
    "    return n1 + n2\n",
    "print(add_num('Hello' , 'World'))\n",
    "print(add_num(4, 5))"
   ]
  },
  {
   "cell_type": "code",
   "execution_count": 4,
   "id": "7a2dec43-e0c8-40ab-871f-7bdd51c65da7",
   "metadata": {},
   "outputs": [
    {
     "data": {
      "text/plain": [
       "True"
      ]
     },
     "execution_count": 4,
     "metadata": {},
     "output_type": "execute_result"
    }
   ],
   "source": [
    "def even_num(a):\n",
    "    return a%2==0\n",
    "even_num(6)"
   ]
  },
  {
   "cell_type": "code",
   "execution_count": 5,
   "id": "a66195fc-d0e3-4c7f-8762-93ea1b152786",
   "metadata": {},
   "outputs": [
    {
     "data": {
      "text/plain": [
       "True"
      ]
     },
     "execution_count": 5,
     "metadata": {},
     "output_type": "execute_result"
    }
   ],
   "source": [
    "def check_num(num_list):\n",
    "    for n in num_list:\n",
    "        if n%2==0:\n",
    "            return True\n",
    "        else:\n",
    "            pass\n",
    "check_num([1,2,3,4,5])        "
   ]
  },
  {
   "cell_type": "code",
   "execution_count": 6,
   "id": "e3536b83-b84a-4ace-8d79-b73fd544c38a",
   "metadata": {},
   "outputs": [
    {
     "data": {
      "text/plain": [
       "[2, 4, 6]"
      ]
     },
     "execution_count": 6,
     "metadata": {},
     "output_type": "execute_result"
    }
   ],
   "source": [
    "def check_num(num_list):\n",
    "    return[x for x in num_list if x%2==0]\n",
    "check_num([1,2,3,4,5,6])"
   ]
  },
  {
   "cell_type": "code",
   "execution_count": 7,
   "id": "95df3da6-54fa-4fd8-b3d5-f6a32ca54d03",
   "metadata": {},
   "outputs": [
    {
     "data": {
      "text/plain": [
       "('Cassie', 800)"
      ]
     },
     "execution_count": 7,
     "metadata": {},
     "output_type": "execute_result"
    }
   ],
   "source": [
    "work_hours=[('Abby',100),('Cassie',800),('Billy',400)]\n",
    "\n",
    "def emp(work_hours):\n",
    "    x = 0\n",
    "    y = ''\n",
    "    for emp,hrs in work_hours:\n",
    "        if hrs > x:\n",
    "            x = hrs\n",
    "            y = emp\n",
    "    return (y,x)\n",
    "emp(work_hours)"
   ]
  },
  {
   "cell_type": "code",
   "execution_count": 8,
   "id": "84fab200-c4c5-48df-8e27-a79d37391056",
   "metadata": {},
   "outputs": [
    {
     "data": {
      "text/plain": [
       "('Cassie', 800)"
      ]
     },
     "execution_count": 8,
     "metadata": {},
     "output_type": "execute_result"
    }
   ],
   "source": [
    " def emp(wh):\n",
    "        x = 0\n",
    "        y = 0\n",
    "        for i in wh:\n",
    "            if i[1] > x:\n",
    "                x = i[1]\n",
    "                y = i[0]\n",
    "        return(y,x)\n",
    "emp(work_hours)    "
   ]
  },
  {
   "cell_type": "code",
   "execution_count": 9,
   "id": "ec65db7a-3e6b-46ab-9b9c-b55285c4bbd2",
   "metadata": {},
   "outputs": [
    {
     "name": "stdout",
     "output_type": "stream",
     "text": [
      "9\n",
      "9\n"
     ]
    },
    {
     "data": {
      "text/plain": [
       "NoneType"
      ]
     },
     "execution_count": 9,
     "metadata": {},
     "output_type": "execute_result"
    }
   ],
   "source": [
    "def print_r(a,b):\n",
    "    print(a+b)\n",
    "print_r(5,4)\n",
    "\n",
    "sqr = print_r(5,4)\n",
    "type(sqr)"
   ]
  },
  {
   "cell_type": "code",
   "execution_count": 2,
   "id": "cad87a0c-c8f8-4d50-a779-2e89b6d8dbe5",
   "metadata": {},
   "outputs": [
    {
     "name": "stdout",
     "output_type": "stream",
     "text": [
      "81\n"
     ]
    },
    {
     "data": {
      "text/plain": [
       "int"
      ]
     },
     "execution_count": 2,
     "metadata": {},
     "output_type": "execute_result"
    }
   ],
   "source": [
    "def return_1(a,b):\n",
    "    return(a+b)\n",
    "return_1(5,4)\n",
    "\n",
    "sqr = return_1(5,4)\n",
    "multi = sqr*sqr\n",
    "print(multi)\n",
    "type(sqr)"
   ]
  },
  {
   "cell_type": "markdown",
   "id": "0efb0154-a89a-47a6-bc41-57ccc733d390",
   "metadata": {},
   "source": [
    "#### Shuffle Game"
   ]
  },
  {
   "cell_type": "code",
   "execution_count": 4,
   "id": "e8c81de3-1144-4ac8-ab6e-27418421254d",
   "metadata": {},
   "outputs": [],
   "source": [
    "from random import shuffle"
   ]
  },
  {
   "cell_type": "code",
   "execution_count": 6,
   "id": "eb7922ca-6b02-40af-9726-fdbf95e037b5",
   "metadata": {},
   "outputs": [
    {
     "data": {
      "text/plain": [
       "['', '', '0']"
      ]
     },
     "execution_count": 6,
     "metadata": {},
     "output_type": "execute_result"
    }
   ],
   "source": [
    "list1 = [ '','0','']\n",
    "# Shuffle function\n",
    "def shuffle_l(list1):\n",
    "    shuffle(list1)\n",
    "    return list1\n",
    "shuffle_l(list1)"
   ]
  },
  {
   "cell_type": "code",
   "execution_count": 7,
   "id": "5bdb7996-5d50-4db5-8761-d8a8c169d77b",
   "metadata": {},
   "outputs": [],
   "source": [
    "# Take a Guess\n",
    "def pl_guess():\n",
    "    g = ''\n",
    "    while g not in ['0','1','2']:\n",
    "        g = input('Pick a Number:0,1,2:')\n",
    "    return int(g)    \n",
    "        "
   ]
  },
  {
   "cell_type": "code",
   "execution_count": 8,
   "id": "9a8d7cf4-d842-43ba-a30b-8616bc16a221",
   "metadata": {},
   "outputs": [],
   "source": [
    "# Comparision\n",
    "def check1(list1,g):\n",
    "    if list1[g]=='0':\n",
    "        print('Your Guess was Correct!')\n",
    "    else:\n",
    "        print('Better Luck Next Time')\n",
    "        print(list1)"
   ]
  },
  {
   "cell_type": "code",
   "execution_count": 10,
   "id": "597d6371-ad16-462e-867b-e646b57b3642",
   "metadata": {},
   "outputs": [
    {
     "name": "stdin",
     "output_type": "stream",
     "text": [
      "Pick a Number:0,1,2: 2\n"
     ]
    },
    {
     "name": "stdout",
     "output_type": "stream",
     "text": [
      "Better Luck Next Time\n",
      "['', '0', '']\n"
     ]
    }
   ],
   "source": [
    "list1 = ['','0','']\n",
    "# Shuffle\n",
    "mixed_list = shuffle_l(list1)\n",
    "# Get user Guess\n",
    "g = pl_guess()\n",
    "# Check user guess\n",
    "check1(mixed_list,g)"
   ]
  },
  {
   "cell_type": "markdown",
   "id": "d860ad7b-1794-44b8-aa25-ea024ffe958c",
   "metadata": {},
   "source": [
    "#### Exercise"
   ]
  },
  {
   "cell_type": "markdown",
   "id": "927be361-9558-4de3-b2c1-4f04452ed90b",
   "metadata": {},
   "source": [
    "##### Write a function that returns the lesser of two given numbers if both numbers are even, but returs the greater if one or both numbers are odd"
   ]
  },
  {
   "cell_type": "code",
   "execution_count": 16,
   "id": "ae5b8645-a867-4eef-b4be-ead92f918031",
   "metadata": {},
   "outputs": [
    {
     "data": {
      "text/plain": [
       "5"
      ]
     },
     "execution_count": 16,
     "metadata": {},
     "output_type": "execute_result"
    }
   ],
   "source": [
    "def lesser_number(a,b):\n",
    "    if a%2==0 and b%2==0:\n",
    "        if a<b:\n",
    "            return a\n",
    "        else:\n",
    "            return b\n",
    "    if a<b:\n",
    "        return b\n",
    "    else:\n",
    "        return a\n",
    "lesser_number(5,3)    "
   ]
  },
  {
   "cell_type": "code",
   "execution_count": 17,
   "id": "7d755cba-a077-4341-8081-ab8ee949c4bc",
   "metadata": {},
   "outputs": [
    {
     "data": {
      "text/plain": [
       "5"
      ]
     },
     "execution_count": 17,
     "metadata": {},
     "output_type": "execute_result"
    }
   ],
   "source": [
    "def less_(a,b):\n",
    "    if a%2==0 and b%2==0:\n",
    "        return min(a,b)\n",
    "    else:\n",
    "        return max(a,b)\n",
    "less_(2,5)    "
   ]
  },
  {
   "cell_type": "markdown",
   "id": "45e69254-3e92-4cdf-aa1d-c9c13cee0fae",
   "metadata": {},
   "source": [
    "##### Write a function takes a two word string and returns True if both words begin with same letter "
   ]
  },
  {
   "cell_type": "code",
   "execution_count": 18,
   "id": "27c32e4e-ee14-46fd-b00f-b12e1ca4a614",
   "metadata": {},
   "outputs": [
    {
     "data": {
      "text/plain": [
       "True"
      ]
     },
     "execution_count": 18,
     "metadata": {},
     "output_type": "execute_result"
    }
   ],
   "source": [
    "def animal_cracker(str1):\n",
    "    s = str1.split()\n",
    "    return s[0][0] == s[1][0]\n",
    "animal_cracker('Level Llama')"
   ]
  },
  {
   "cell_type": "code",
   "execution_count": 19,
   "id": "9c5e148b-fa30-4c27-b923-d1f36d661cc5",
   "metadata": {},
   "outputs": [
    {
     "data": {
      "text/plain": [
       "True"
      ]
     },
     "execution_count": 19,
     "metadata": {},
     "output_type": "execute_result"
    }
   ],
   "source": [
    "def makes_twenty(a,b):\n",
    "    return (a+b)==20 or a==20 or b==20\n",
    "makes_twenty(10,10)    "
   ]
  },
  {
   "cell_type": "code",
   "execution_count": null,
   "id": "a7d207ba-650b-4995-bb3b-6324603f7f70",
   "metadata": {},
   "outputs": [],
   "source": []
  }
 ],
 "metadata": {
  "kernelspec": {
   "display_name": "Python 3 (ipykernel)",
   "language": "python",
   "name": "python3"
  },
  "language_info": {
   "codemirror_mode": {
    "name": "ipython",
    "version": 3
   },
   "file_extension": ".py",
   "mimetype": "text/x-python",
   "name": "python",
   "nbconvert_exporter": "python",
   "pygments_lexer": "ipython3",
   "version": "3.9.7"
  }
 },
 "nbformat": 4,
 "nbformat_minor": 5
}
