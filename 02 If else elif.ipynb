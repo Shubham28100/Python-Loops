{
 "cells": [
  {
   "cell_type": "markdown",
   "id": "dc10b56a-546d-4da9-9245-14f1e14bdb75",
   "metadata": {},
   "source": [
    "# if, elif, else Statements"
   ]
  },
  {
   "cell_type": "raw",
   "id": "d6dd6b1f-7e53-45dc-95b6-c652a84b49c3",
   "metadata": {},
   "source": [
    "Syntax:\n",
    "if case1:\n",
    "    perform action1\n",
    "elif case2:\n",
    "    perform action2:\n",
    "else case3:\n",
    "    perforn action3:"
   ]
  },
  {
   "cell_type": "code",
   "execution_count": 1,
   "id": "b0d8bc02-bce9-42e0-9759-f3a659a40d3c",
   "metadata": {},
   "outputs": [
    {
     "name": "stdout",
     "output_type": "stream",
     "text": [
      "It was true!\n"
     ]
    }
   ],
   "source": [
    "# if statement\n",
    "if True:\n",
    "    print('It was true!')"
   ]
  },
  {
   "cell_type": "code",
   "execution_count": 2,
   "id": "3a10ca20-286a-43c9-b016-1aebd06159f6",
   "metadata": {},
   "outputs": [
    {
     "name": "stdout",
     "output_type": "stream",
     "text": [
      "I will be printed in any case where x is not true.\n"
     ]
    }
   ],
   "source": [
    "# if else statement\n",
    "x = False\n",
    "if x == True :\n",
    "    print('x was true!')\n",
    "else:\n",
    "    print('I will be printed in any case where x is not true.')"
   ]
  },
  {
   "cell_type": "code",
   "execution_count": 5,
   "id": "01c3b30d-80d0-46d9-a872-e3ea10152569",
   "metadata": {},
   "outputs": [
    {
     "name": "stdin",
     "output_type": "stream",
     "text": [
      "Enter the Location School\n"
     ]
    },
    {
     "name": "stdout",
     "output_type": "stream",
     "text": [
      "Where are you? Your location is =  School\n"
     ]
    }
   ],
   "source": [
    "# if elif else statement\n",
    "loc = input('Enter the Location')\n",
    "if loc == 'Auto Shop':\n",
    "    print('Welcome to the Auto Shop')\n",
    "elif loc == 'Bank':\n",
    "    print('Welcome to the Bank')\n",
    "else:\n",
    "    print('Where are you? Your location is = ',loc)\n",
    "        "
   ]
  },
  {
   "cell_type": "code",
   "execution_count": 7,
   "id": "576e922b-0836-4b53-bdec-9d9e3e90cf80",
   "metadata": {},
   "outputs": [
    {
     "name": "stdout",
     "output_type": "stream",
     "text": [
      "Number is Odd = 1\n",
      "Number is Even = 2\n",
      "Number is Odd = 3\n",
      "Number is Even = 4\n",
      "Number is Odd = 5\n",
      "Number is Even = 6\n",
      "Number is Odd = 7\n",
      "Number is Even = 8\n",
      "Number is Odd = 9\n",
      "Number is Even = 10\n"
     ]
    }
   ],
   "source": [
    "# for and if together\n",
    "list1 = [1,2,3,4,5,6,7,8,9,10]\n",
    "for num in list1:\n",
    "    if num%2==0:\n",
    "        print('Number is Even =',num)\n",
    "    else:  \n",
    "        print('Number is Odd =',num)        "
   ]
  },
  {
   "cell_type": "code",
   "execution_count": null,
   "id": "8269b76d-88de-4043-8294-af7bd0dff4ca",
   "metadata": {},
   "outputs": [],
   "source": [
    "a = int(input())\n",
    "if a%2==0:\n",
    "        print('Number is Even =',a)\n",
    "else:  \n",
    "        print('Number is Odd =',a) "
   ]
  },
  {
   "cell_type": "code",
   "execution_count": 21,
   "id": "5f4e4347-bd85-4924-bf11-5abcc130312f",
   "metadata": {},
   "outputs": [
    {
     "name": "stdout",
     "output_type": "stream",
     "text": [
      "[2, 4, 6, 8, 10]\n",
      "[1, 3, 5, 7, 9]\n"
     ]
    }
   ],
   "source": [
    "even_num = []\n",
    "odd_num = []\n",
    "for num in list(range(1,11)):\n",
    "    if num%2==0:\n",
    "        even_num.append(num)\n",
    "    else:  \n",
    "        odd_num.append(num)\n",
    "print(even_num)\n",
    "print(odd_num)"
   ]
  },
  {
   "cell_type": "code",
   "execution_count": 8,
   "id": "f190bbee-958f-4136-803d-8f94587752a9",
   "metadata": {},
   "outputs": [
    {
     "name": "stdout",
     "output_type": "stream",
     "text": [
      "55\n"
     ]
    }
   ],
   "source": [
    "# Addition \n",
    "sum1 = 0\n",
    "for num in list1:\n",
    "    sum1 += num    #sum1 = sum1+num\n",
    "print(sum1)    "
   ]
  },
  {
   "cell_type": "code",
   "execution_count": 9,
   "id": "422d0f18-a10e-4c99-b589-bbb7c004be4f",
   "metadata": {},
   "outputs": [
    {
     "name": "stdout",
     "output_type": "stream",
     "text": [
      "2 , 4\n",
      "6 , 8\n",
      "10 , 12\n"
     ]
    }
   ],
   "source": [
    "list2 = [(2,4),(6,8),(10,12)]\n",
    "for (t0,t1) in list2:\n",
    "    print(t0,',',t1)"
   ]
  },
  {
   "cell_type": "code",
   "execution_count": null,
   "id": "89e248a4-7889-4633-bd0b-7b56df84c5d8",
   "metadata": {},
   "outputs": [],
   "source": []
  }
 ],
 "metadata": {
  "kernelspec": {
   "display_name": "Python 3 (ipykernel)",
   "language": "python",
   "name": "python3"
  },
  "language_info": {
   "codemirror_mode": {
    "name": "ipython",
    "version": 3
   },
   "file_extension": ".py",
   "mimetype": "text/x-python",
   "name": "python",
   "nbconvert_exporter": "python",
   "pygments_lexer": "ipython3",
   "version": "3.9.7"
  }
 },
 "nbformat": 4,
 "nbformat_minor": 5
}
