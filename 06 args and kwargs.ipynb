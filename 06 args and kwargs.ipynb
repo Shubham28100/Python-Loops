{
 "cells": [
  {
   "cell_type": "markdown",
   "id": "ad9b04aa-6b4d-4fe2-a26b-7822d34356a1",
   "metadata": {},
   "source": [
    "# *args and **kwargs"
   ]
  },
  {
   "cell_type": "markdown",
   "id": "5b56eb46-3967-40a3-9724-3c979df18390",
   "metadata": {},
   "source": [
    "Work with python long enough, and eventually you will encounter *args and **kwargs. These strange terms show up as parameters in function definitions. What do you do? Let's review a simple function:"
   ]
  },
  {
   "cell_type": "code",
   "execution_count": 1,
   "id": "26ea72a9-b278-44f5-b390-dc4a6ba3ec23",
   "metadata": {},
   "outputs": [
    {
     "data": {
      "text/plain": [
       "5.0"
      ]
     },
     "execution_count": 1,
     "metadata": {},
     "output_type": "execute_result"
    }
   ],
   "source": [
    "def myfun(a,b):\n",
    "    return sum((a,b))*.05\n",
    "myfun(40,60)"
   ]
  },
  {
   "cell_type": "code",
   "execution_count": 2,
   "id": "15c47b9a-7fb0-4be4-bdfc-54c9f621408e",
   "metadata": {},
   "outputs": [
    {
     "data": {
      "text/plain": [
       "6.0"
      ]
     },
     "execution_count": 2,
     "metadata": {},
     "output_type": "execute_result"
    }
   ],
   "source": [
    "def fun1(a=0, b=0, c=0, d=0, e=0):\n",
    "    return sum((a,b,c,d,e))*.05 \n",
    "fun1(40,60,20)    "
   ]
  },
  {
   "cell_type": "code",
   "execution_count": 3,
   "id": "54c23498-8645-4f36-90f7-71fa624fdf9d",
   "metadata": {},
   "outputs": [
    {
     "data": {
      "text/plain": [
       "5.0"
      ]
     },
     "execution_count": 3,
     "metadata": {},
     "output_type": "execute_result"
    }
   ],
   "source": [
    "# args can be of any name \n",
    "def myfun(*args):\n",
    "    return sum((args))*.05\n",
    "myfun(40,60)"
   ]
  },
  {
   "cell_type": "markdown",
   "id": "42e768ed-571b-43b1-bf98-78e7feb97dec",
   "metadata": {},
   "source": [
    "# **kwargs"
   ]
  },
  {
   "cell_type": "markdown",
   "id": "efbd3817-b0a8-4a66-b31d-640d4b017f05",
   "metadata": {},
   "source": [
    "Similarly, Python offers a way to handel arbitary numbers of keyworded arguments. Instead of creating a tuple of vaules, **kwargs builds a dictionary of key/values pair. For example: "
   ]
  },
  {
   "cell_type": "code",
   "execution_count": 4,
   "id": "637e34f9-723b-4a19-9e42-3fbcfd1b8674",
   "metadata": {},
   "outputs": [
    {
     "name": "stdout",
     "output_type": "stream",
     "text": [
      "My favorite fruit is pineapple\n"
     ]
    }
   ],
   "source": [
    "def myfun(**kwargs):\n",
    "    if 'fruit' in kwargs:\n",
    "        print(f\"My favorite fruit is {kwargs['fruit']}\")\n",
    "       # review string formatting and f-string if this snytax is unfamilir \n",
    "    else:\n",
    "        print(\"I dont like fruit\")\n",
    "myfun(fruit='pineapple')        "
   ]
  },
  {
   "cell_type": "code",
   "execution_count": 12,
   "id": "8ef0487e-ceeb-414a-a1ca-cb26b50cdf6b",
   "metadata": {},
   "outputs": [
    {
     "name": "stdout",
     "output_type": "stream",
     "text": [
      "I like eggsandspamand my favorite fruit is cherries\n",
      "May I have some orange juice?\n"
     ]
    }
   ],
   "source": [
    "def myfun(*args, **kwargs):\n",
    "    if 'fruit' and 'juice' in kwargs:\n",
    "        print(f\"I like {'and' .join(args)}and my favorite fruit is {kwargs['fruit']}\")\n",
    "        print(f\"May I have some {kwargs['juice']} juice?\")     \n",
    "    else:\n",
    "        pass\n",
    "myfun('eggs','spam',fruit='cherries',juice='orange')    \n",
    "# We should pass the elemnt as wriiten in function e.g args first and then kwargs.\n",
    "# we should pass *args first and then **kwargs in the function."
   ]
  },
  {
   "cell_type": "code",
   "execution_count": null,
   "id": "df04e644-be1b-45d6-8d6b-9b71038712fe",
   "metadata": {},
   "outputs": [],
   "source": []
  }
 ],
 "metadata": {
  "kernelspec": {
   "display_name": "Python 3 (ipykernel)",
   "language": "python",
   "name": "python3"
  },
  "language_info": {
   "codemirror_mode": {
    "name": "ipython",
    "version": 3
   },
   "file_extension": ".py",
   "mimetype": "text/x-python",
   "name": "python",
   "nbconvert_exporter": "python",
   "pygments_lexer": "ipython3",
   "version": "3.9.7"
  }
 },
 "nbformat": 4,
 "nbformat_minor": 5
}
