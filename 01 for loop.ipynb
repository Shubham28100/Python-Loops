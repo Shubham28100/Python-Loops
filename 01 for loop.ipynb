{
 "cells": [
  {
   "cell_type": "markdown",
   "id": "abe5492b-44b3-4b21-975f-85325ffed313",
   "metadata": {},
   "source": [
    "# for Loops"
   ]
  },
  {
   "cell_type": "raw",
   "id": "af30d664-c4b6-42e2-91da-f3c9c3aeaca2",
   "metadata": {},
   "source": [
    "Heres a general format for a for loop in python:\n",
    "  \n",
    "   for val in sequence:\n",
    "        statement\n",
    "     \n",
    "  The variable name used for the item is competely up to us "
   ]
  },
  {
   "cell_type": "code",
   "execution_count": 1,
   "id": "a43f4e4c-b6e8-43d1-ad73-e5ab7cec4b7a",
   "metadata": {},
   "outputs": [
    {
     "name": "stdout",
     "output_type": "stream",
     "text": [
      "1\n",
      "2\n",
      "3\n",
      "4\n",
      "5\n"
     ]
    }
   ],
   "source": [
    "list_1 = [1,2,3,4,5]\n",
    "for i in list_1:\n",
    "    print(i)"
   ]
  },
  {
   "cell_type": "code",
   "execution_count": 2,
   "id": "9c8bafa3-60ee-4ed5-929c-9b3102af3bde",
   "metadata": {},
   "outputs": [
    {
     "name": "stdout",
     "output_type": "stream",
     "text": [
      "I\n",
      " \n",
      "l\n",
      "o\n",
      "v\n",
      "e\n",
      " \n",
      "P\n",
      "y\n",
      "t\n",
      "h\n",
      "o\n",
      "n\n"
     ]
    }
   ],
   "source": [
    "Str1= 'I love Python'\n",
    "for i in Str1:\n",
    "    print(i)"
   ]
  },
  {
   "cell_type": "code",
   "execution_count": 1,
   "id": "5e118f7c-3e1b-42fa-b062-c95e9f346b9f",
   "metadata": {},
   "outputs": [],
   "source": [
    "d = {'k1':5, 'k2':6, 'k3':7}"
   ]
  },
  {
   "cell_type": "code",
   "execution_count": 8,
   "id": "95b80cb6-d3fd-40ce-b8dc-e96a2adb5b84",
   "metadata": {},
   "outputs": [
    {
     "name": "stdout",
     "output_type": "stream",
     "text": [
      "k1 5\n",
      "k2 6\n",
      "k3 7\n"
     ]
    }
   ],
   "source": [
    "for k , v in d.items():\n",
    "    print(k , v)"
   ]
  },
  {
   "cell_type": "code",
   "execution_count": 9,
   "id": "b9eb2f74-c7b9-4a54-b491-fe87bb8699b3",
   "metadata": {},
   "outputs": [
    {
     "name": "stdout",
     "output_type": "stream",
     "text": [
      "5\n",
      "6\n",
      "7\n"
     ]
    }
   ],
   "source": [
    "for v in d.values():\n",
    "    print(v)"
   ]
  },
  {
   "cell_type": "code",
   "execution_count": null,
   "id": "071f1ef4-d0d8-4601-948b-1df768aabd26",
   "metadata": {},
   "outputs": [],
   "source": []
  }
 ],
 "metadata": {
  "kernelspec": {
   "display_name": "Python 3 (ipykernel)",
   "language": "python",
   "name": "python3"
  },
  "language_info": {
   "codemirror_mode": {
    "name": "ipython",
    "version": 3
   },
   "file_extension": ".py",
   "mimetype": "text/x-python",
   "name": "python",
   "nbconvert_exporter": "python",
   "pygments_lexer": "ipython3",
   "version": "3.9.7"
  }
 },
 "nbformat": 4,
 "nbformat_minor": 5
}
