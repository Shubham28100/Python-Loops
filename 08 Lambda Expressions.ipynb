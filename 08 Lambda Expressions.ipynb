{
 "cells": [
  {
   "cell_type": "markdown",
   "id": "c0828c34-cf9d-43d0-8eee-b9bb96b1f236",
   "metadata": {},
   "source": [
    "# Lambda Expressions, Map and Filter"
   ]
  },
  {
   "cell_type": "markdown",
   "id": "3d8b6732-ee03-48d5-96f6-4908a78fbf3b",
   "metadata": {},
   "source": [
    "Snytax:\n",
    "    \n",
    "    variable = lambda argument(s):expression"
   ]
  },
  {
   "cell_type": "code",
   "execution_count": 1,
   "id": "3328c21a-06ce-49a0-943c-b36863e00887",
   "metadata": {},
   "outputs": [
    {
     "data": {
      "text/plain": [
       "16"
      ]
     },
     "execution_count": 1,
     "metadata": {},
     "output_type": "execute_result"
    }
   ],
   "source": [
    "def square(num):\n",
    "    return num**2\n",
    "\n",
    "sqr = lambda num : num**2\n",
    "sqr(2)"
   ]
  },
  {
   "cell_type": "code",
   "execution_count": 2,
   "id": "284caa4f-7d42-4c01-9587-9e707679d97c",
   "metadata": {},
   "outputs": [
    {
     "data": {
      "text/plain": [
       "<map at 0x235f2072910>"
      ]
     },
     "execution_count": 2,
     "metadata": {},
     "output_type": "execute_result"
    }
   ],
   "source": [
    "my_nums = [1,2,3,4,5]\n",
    "\n",
    "map(square, my_nums)"
   ]
  },
  {
   "cell_type": "code",
   "execution_count": 3,
   "id": "18875bbc-970c-4384-b55d-38afcdca08e7",
   "metadata": {},
   "outputs": [
    {
     "data": {
      "text/plain": [
       "[1, 4, 9, 16, 25]"
      ]
     },
     "execution_count": 3,
     "metadata": {},
     "output_type": "execute_result"
    }
   ],
   "source": [
    "list(map(square, my_nums))"
   ]
  },
  {
   "cell_type": "code",
   "execution_count": 4,
   "id": "11a5bf80-23da-4e32-b815-c3dc6fb453ac",
   "metadata": {},
   "outputs": [],
   "source": [
    "def splicer(mystring):\n",
    "    if len(mystring) % 2 == 0:\n",
    "        return 'even'\n",
    "    else:\n",
    "        return mystring[0]    "
   ]
  },
  {
   "cell_type": "code",
   "execution_count": 5,
   "id": "728ce0d0-4c59-4a3e-bf74-5d901d51b005",
   "metadata": {},
   "outputs": [],
   "source": [
    "mynames = ['John','Cindy','Sarah','Kelly','Mike','Draken']"
   ]
  },
  {
   "cell_type": "code",
   "execution_count": 6,
   "id": "b808189d-3c17-4b34-a931-5da812e9d8e3",
   "metadata": {},
   "outputs": [
    {
     "data": {
      "text/plain": [
       "['even', 'C', 'S', 'K', 'even', 'even']"
      ]
     },
     "execution_count": 6,
     "metadata": {},
     "output_type": "execute_result"
    }
   ],
   "source": [
    "list(map(splicer,mynames))"
   ]
  },
  {
   "cell_type": "code",
   "execution_count": 7,
   "id": "dcf0d4bc-2d7d-44c6-9325-646063bdb9ec",
   "metadata": {},
   "outputs": [
    {
     "data": {
      "text/plain": [
       "[1, 4, 9, 16]"
      ]
     },
     "execution_count": 7,
     "metadata": {},
     "output_type": "execute_result"
    }
   ],
   "source": [
    "# Combination of lambda and map\n",
    "list(map(lambda num: num**2,[1,2,3,4]))"
   ]
  },
  {
   "cell_type": "markdown",
   "id": "e3c41ac6-6e0a-4ca3-bbde-7ac57ae6d738",
   "metadata": {},
   "source": [
    "## Filter"
   ]
  },
  {
   "cell_type": "code",
   "execution_count": 8,
   "id": "a2237228-e4d5-4b67-be8f-8c4f872795a6",
   "metadata": {},
   "outputs": [
    {
     "data": {
      "text/plain": [
       "<filter at 0x235f20b82b0>"
      ]
     },
     "execution_count": 8,
     "metadata": {},
     "output_type": "execute_result"
    }
   ],
   "source": [
    "def check_even(num):\n",
    "    return num%2 == 0\n",
    "\n",
    "num = [0,1,2,3,4,5,6,7,8,9,10]\n",
    "\n",
    "filter(check_even,num)"
   ]
  },
  {
   "cell_type": "code",
   "execution_count": 9,
   "id": "f4ceabfa-17b4-4641-90b3-1004a6b04435",
   "metadata": {},
   "outputs": [
    {
     "data": {
      "text/plain": [
       "[0, 2, 4, 6, 8, 10]"
      ]
     },
     "execution_count": 9,
     "metadata": {},
     "output_type": "execute_result"
    }
   ],
   "source": [
    "list(filter(check_even,num))"
   ]
  },
  {
   "cell_type": "code",
   "execution_count": 10,
   "id": "b9bc9d43-3ba8-465d-9742-0d459ed2008c",
   "metadata": {},
   "outputs": [
    {
     "data": {
      "text/plain": [
       "[2, 4, 6, 8, 10]"
      ]
     },
     "execution_count": 10,
     "metadata": {},
     "output_type": "execute_result"
    }
   ],
   "source": [
    "list(filter(lambda n:n%2==0, list(range(1,11))))"
   ]
  },
  {
   "cell_type": "code",
   "execution_count": 2,
   "id": "9c7805d7-693d-45c6-af6b-071045624708",
   "metadata": {},
   "outputs": [
    {
     "name": "stdout",
     "output_type": "stream",
     "text": [
      "['m', 'a', 'd']\n",
      "['mansi', 'amruta', 'dinish']\n"
     ]
    }
   ],
   "source": [
    "print(list(map(lambda s:s[0],['mansi','amruta','dinish'])))\n",
    "print(list(filter(lambda s:s[0],['mansi','amruta','dinish'])))"
   ]
  },
  {
   "cell_type": "code",
   "execution_count": null,
   "id": "e0336660-c3f3-46dd-890d-7af43afbc3f0",
   "metadata": {},
   "outputs": [],
   "source": []
  }
 ],
 "metadata": {
  "kernelspec": {
   "display_name": "Python 3 (ipykernel)",
   "language": "python",
   "name": "python3"
  },
  "language_info": {
   "codemirror_mode": {
    "name": "ipython",
    "version": 3
   },
   "file_extension": ".py",
   "mimetype": "text/x-python",
   "name": "python",
   "nbconvert_exporter": "python",
   "pygments_lexer": "ipython3",
   "version": "3.9.7"
  }
 },
 "nbformat": 4,
 "nbformat_minor": 5
}
