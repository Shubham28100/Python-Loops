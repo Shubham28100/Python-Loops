{
 "cells": [
  {
   "cell_type": "markdown",
   "id": "da325179-4239-4bd6-a14f-a44637822c47",
   "metadata": {},
   "source": [
    "# Nested Function"
   ]
  },
  {
   "cell_type": "code",
   "execution_count": 1,
   "id": "3d9b6218-37f8-474c-99bc-4f19ecaa66a8",
   "metadata": {},
   "outputs": [
    {
     "name": "stdout",
     "output_type": "stream",
     "text": [
      "25\n",
      "50\n"
     ]
    }
   ],
   "source": [
    "x = 25\n",
    "def printer():\n",
    "    x = 50\n",
    "    return x\n",
    "print(x)\n",
    "print(printer())"
   ]
  },
  {
   "cell_type": "markdown",
   "id": "68e9d3d4-fd19-4984-9fa5-dccab8ce17a0",
   "metadata": {},
   "source": [
    "## Functiontypes"
   ]
  },
  {
   "cell_type": "markdown",
   "id": "7d2d5e91-1abf-42b6-be3c-a89d09591452",
   "metadata": {},
   "source": [
    "L: Local- Names assigned in any way within a function (def or lambda), and not declared global in           that function.\n",
    "\n",
    "E: Enclosing function locals- Names in the local scope of any and all enclosing functions (def or                               lambda), from inner to outer.\n",
    "\n",
    "G: Global (module)- Names assigned at the top level of a module file, or declared globle in a def                     within the file.\n",
    "\n",
    "B: Built-in function- Names preassigned in the built-in names module: open, range, SnytaxError,.. "
   ]
  },
  {
   "cell_type": "markdown",
   "id": "355dccc4-549d-46a3-ab98-fd2bc6e9dca1",
   "metadata": {},
   "source": [
    "### Local"
   ]
  },
  {
   "cell_type": "code",
   "execution_count": 3,
   "id": "f944fa64-fb4f-4c8c-a256-4e7a54358add",
   "metadata": {},
   "outputs": [
    {
     "name": "stdout",
     "output_type": "stream",
     "text": [
      "Hello Sammy\n"
     ]
    }
   ],
   "source": [
    "name = 'This is a global name'\n",
    "\n",
    "def greet():\n",
    "    # Enclosing function\n",
    "    name = 'Sammy'\n",
    "    \n",
    "    def hello():\n",
    "        print('Hello '+name)\n",
    "        \n",
    "    hello()\n",
    "greet()    "
   ]
  },
  {
   "cell_type": "markdown",
   "id": "f0815dac-73c8-4e9c-96b4-6d65141a480f",
   "metadata": {},
   "source": [
    "### Global"
   ]
  },
  {
   "cell_type": "code",
   "execution_count": 4,
   "id": "43a03811-e482-499a-83d0-8a2777bddbb2",
   "metadata": {},
   "outputs": [
    {
     "name": "stdout",
     "output_type": "stream",
     "text": [
      "before calling func(),x is: 50\n",
      "This function is now using the global x!\n",
      "Because of global x is: 50\n",
      " change global x to 2\n",
      "Value of x (outside of func())is: 2\n"
     ]
    }
   ],
   "source": [
    "x = 50\n",
    "def func():\n",
    "    global x\n",
    "    print('This function is now using the global x!')\n",
    "    print('Because of global x is:',x)\n",
    "    x = 2\n",
    "    print(' change global x to',x)\n",
    "print('before calling func(),x is:',x)\n",
    "func()\n",
    "print('Value of x (outside of func())is:',x)"
   ]
  },
  {
   "cell_type": "code",
   "execution_count": null,
   "id": "7bb86f0a-760d-46b3-af29-ef6cf95a21ea",
   "metadata": {},
   "outputs": [],
   "source": []
  }
 ],
 "metadata": {
  "kernelspec": {
   "display_name": "Python 3 (ipykernel)",
   "language": "python",
   "name": "python3"
  },
  "language_info": {
   "codemirror_mode": {
    "name": "ipython",
    "version": 3
   },
   "file_extension": ".py",
   "mimetype": "text/x-python",
   "name": "python",
   "nbconvert_exporter": "python",
   "pygments_lexer": "ipython3",
   "version": "3.9.7"
  }
 },
 "nbformat": 4,
 "nbformat_minor": 5
}
